{
 "cells": [
  {
   "cell_type": "code",
   "execution_count": 57,
   "metadata": {},
   "outputs": [],
   "source": [
    "from typing import List"
   ]
  },
  {
   "cell_type": "code",
   "execution_count": null,
   "metadata": {},
   "outputs": [
    {
     "name": "stdout",
     "output_type": "stream",
     "text": [
      "[[1, 4, 7], [2, 5, 8], [3, 6, 9]]\n"
     ]
    }
   ],
   "source": [
    "# traspose matrix tc: o(n^2)\n",
    "def transpose(matrix: List[List[int]]) -> List[List[int]]:\n",
    "        r = len(matrix)\n",
    "        c = len(matrix[0])\n",
    "        \n",
    "        output = [ [0 for _ in range(r)] for _ in range(c) ] # this is required becase assigning to location that doesnot exist will give index error.\n",
    "\n",
    "        for i in range(0,r):\n",
    "            for j in range(0,c):\n",
    "                output[j][i] = matrix[i][j]\n",
    "        \n",
    "        print(output)\n",
    "\n",
    "matrix = [[1,2,3],[4,5,6],[7,8,9]]\n",
    "transpose(matrix)"
   ]
  },
  {
   "cell_type": "markdown",
   "metadata": {},
   "source": [
    "## Solution for problem 2: Square of sorted arrays"
   ]
  },
  {
   "cell_type": "code",
   "execution_count": null,
   "metadata": {},
   "outputs": [
    {
     "data": {
      "text/plain": [
       "[0, 1, 9, 9, 100]"
      ]
     },
     "execution_count": 4,
     "metadata": {},
     "output_type": "execute_result"
    }
   ],
   "source": [
    "# square of sorted array tc: O(nlogn)\n",
    "def sortedSquares(nums: List[int]) -> List[int]:\n",
    "        return sorted([el*el for el in nums])\n",
    "\n",
    "input_list = [-3,-1,0,3,10];\n",
    "\n",
    "sortedSquares(input_list)"
   ]
  },
  {
   "cell_type": "code",
   "execution_count": null,
   "metadata": {},
   "outputs": [
    {
     "data": {
      "text/plain": [
       "[0, 1, 9, 9, 100]"
      ]
     },
     "execution_count": 15,
     "metadata": {},
     "output_type": "execute_result"
    }
   ],
   "source": [
    "#withoutsort\n",
    "def sortedSquares(nums: List[int]) -> List[int]:\n",
    "    n = len(nums)\n",
    "    l = 0\n",
    "    r = n -1\n",
    "    index = n -1\n",
    "    output = [0 for _ in range(n)]\n",
    "    while l<=r:\n",
    "        sq_of_left = nums[l] * nums[l]\n",
    "        sq_of_right = nums[r]* nums[r]\n",
    "        if sq_of_right>sq_of_left:\n",
    "            output[index] = sq_of_right\n",
    "            r -=1\n",
    "        else: \n",
    "            output[index] = sq_of_left\n",
    "            l+=1\n",
    "\n",
    "        index -=1\n",
    "        \n",
    "    return output\n",
    "\n",
    "input_list = [-3,-1,0,3,10];\n",
    "sortedSquares(input_list)"
   ]
  },
  {
   "cell_type": "markdown",
   "metadata": {},
   "source": [
    "## 88. Merge Sorted Array"
   ]
  },
  {
   "cell_type": "code",
   "execution_count": null,
   "metadata": {},
   "outputs": [
    {
     "name": "stdout",
     "output_type": "stream",
     "text": [
      "[1, 2, 3, 2, 5, 6]\n"
     ]
    }
   ],
   "source": [
    "# initial solution\n",
    "def merge(nums1: List[int], m: int, nums2: List[int], n: int):\n",
    "    # output = [0 for el in range(m+n)]\n",
    "\n",
    "    nums1[m:] = nums2\n",
    "    nums1.sort()\n",
    "    \n",
    "\n",
    "nums1 = [1,2,3,0,0,0]\n",
    "m = 3\n",
    "nums2 = [2,5,6]\n",
    "n = 3\n",
    "merge(nums1, m, nums2, n)\n"
   ]
  },
  {
   "cell_type": "code",
   "execution_count": null,
   "metadata": {},
   "outputs": [
    {
     "name": "stdout",
     "output_type": "stream",
     "text": [
      "[1, 2, 2, 3, 5, 6]\n"
     ]
    }
   ],
   "source": [
    "# best solution\n",
    "def merge(nums1: List[int], m: int, nums2: List[int], n: int):\n",
    "    i = m -1 # pointer to last valid element in nums1\n",
    "    j = n -1 # pointer to last element in nums2\n",
    "    k = m+n -1 # position to end of num1(total length)\n",
    "\n",
    "#   merge in reverse  order \n",
    "    while i>=0 and j >=0: \n",
    "        if nums1[i] > nums2[j]:\n",
    "            nums1[k] = nums1[i]\n",
    "            i-=1\n",
    "        else:\n",
    "            nums1[k] = nums2[j]\n",
    "            j-=1\n",
    "        k-=1\n",
    "    # add remaining values from nums2 when j is still not 0, this will happen when length of nums2 is greater then nums 1\n",
    "    while j >=0:\n",
    "        nums1[k] = nums2[j]\n",
    "        j -=1\n",
    "        k -=1\n",
    "\n",
    "    print(nums1)\n",
    "    \n",
    "\n",
    "nums1 = [1,2,3,0,0,0]\n",
    "m = 3\n",
    "nums2 = [2,5,6]\n",
    "n = 3\n",
    "merge(nums1, m, nums2, n)"
   ]
  },
  {
   "cell_type": "markdown",
   "metadata": {},
   "source": [
    "## 26. Remove Duplicates from Sorted Array"
   ]
  },
  {
   "cell_type": "code",
   "execution_count": 8,
   "metadata": {},
   "outputs": [
    {
     "name": "stdout",
     "output_type": "stream",
     "text": [
      "[0, 1, 2, 3, 4]\n",
      "5\n"
     ]
    }
   ],
   "source": [
    "def removeDuplicates(nums: List[int]) -> int:\n",
    "    l = len(nums) \n",
    "    output = []\n",
    "\n",
    "    for el in nums:\n",
    "        if el in output:\n",
    "            continue\n",
    "        else:\n",
    "            output.append(el)\n",
    "    \n",
    "    print(output)\n",
    "    print(len(output))\n",
    "\n",
    "removeDuplicates([0,0,1,1,1,2,2,3,3,4])          \n",
    "        "
   ]
  },
  {
   "cell_type": "code",
   "execution_count": 40,
   "metadata": {},
   "outputs": [
    {
     "name": "stdout",
     "output_type": "stream",
     "text": [
      "[0, 1, 1, 1, 2]\n",
      "[0, 1, 2, 1, 2]\n",
      "3\n",
      "[0, 1, 2, 1, 2]\n"
     ]
    }
   ],
   "source": [
    "def removeDuplicates(nums: List[int]) -> int:\n",
    "    l = len(nums)\n",
    "    u = 0\n",
    "    for j in range(1,l):\n",
    "        if nums[u] != nums[j]:\n",
    "            u +=1\n",
    "            nums[u] = nums[j]\n",
    "\n",
    "    print(u+1)\n",
    "\n",
    "removeDuplicates([0,1,1,1,2])    "
   ]
  },
  {
   "cell_type": "code",
   "execution_count": 21,
   "metadata": {},
   "outputs": [
    {
     "name": "stdout",
     "output_type": "stream",
     "text": [
      "[1, 3, 2]\n"
     ]
    }
   ],
   "source": [
    "m = [1,2,3]\n",
    "\n",
    "m.pop(1)\n",
    "m.insert(2,2)\n",
    "print(m)"
   ]
  },
  {
   "cell_type": "markdown",
   "metadata": {},
   "source": [
    "## Segregate 0s and 1s "
   ]
  },
  {
   "cell_type": "code",
   "execution_count": 56,
   "metadata": {},
   "outputs": [
    {
     "name": "stdout",
     "output_type": "stream",
     "text": [
      "[0, 0, 0, 1, 1, 1]\n"
     ]
    }
   ],
   "source": [
    "\"\"\" input\n",
    "n = 5\n",
    "l = [0,0,1,1,0]\n",
    "output = [0,0,0,1,1]\n",
    "\"\"\"\n",
    "\n",
    "def segregate0and1(nums: List[int], n: int):\n",
    "    left = 0\n",
    "    right = n -1\n",
    "\n",
    "    while(left<right):\n",
    "        while(nums[left] == 0 and left < right):\n",
    "            left +=1\n",
    "\n",
    "        while(nums[right] == 1 and left < right):\n",
    "            right -=1\n",
    "        \n",
    "        if left<right:\n",
    "            nums[left], nums[right] = nums[right], nums[left]\n",
    "            left +=1\n",
    "            right -=1\n",
    "\n",
    "    print(nums)\n",
    "\n",
    "\n",
    "\n",
    "l = [0,1,0,1,1,0]\n",
    "segregate0and1(l, n = 6)\n",
    "\n",
    "\n"
   ]
  },
  {
   "cell_type": "markdown",
   "metadata": {},
   "source": [
    "## 27. Remove Element\n"
   ]
  },
  {
   "cell_type": "code",
   "execution_count": null,
   "metadata": {},
   "outputs": [
    {
     "name": "stdout",
     "output_type": "stream",
     "text": [
      "[0, 1, 3, 0, 4, 0, 4, 2]\n",
      "5\n"
     ]
    }
   ],
   "source": [
    "\n",
    "def removeElement(nums: List[int], val: int) -> int:\n",
    "    r = 0\n",
    "    \n",
    "    for i in range(0, len(nums)):\n",
    "        if nums[i] != val:\n",
    "            nums[r] = nums[i]\n",
    "            r +=1\n",
    "    print(nums)\n",
    "    print(r)\n",
    "\n",
    "\n",
    "nums = [0,1,2,2,3,0,4,2]\n",
    "\n",
    "\n",
    "val = 2\n",
    "removeElement(nums, val)"
   ]
  },
  {
   "cell_type": "markdown",
   "metadata": {},
   "source": [
    "## 5. Longest Palindromic Substring\n"
   ]
  },
  {
   "cell_type": "code",
   "execution_count": null,
   "metadata": {},
   "outputs": [
    {
     "name": "stdout",
     "output_type": "stream",
     "text": [
      "bab\n"
     ]
    }
   ],
   "source": [
    "def is_palindrom(string):\n",
    "    s = 0\n",
    "    e = len(string) -1\n",
    "    while s <=e:\n",
    "        if string[s] != string[e]:\n",
    "            return False\n",
    "        else:\n",
    "            s +=1\n",
    "            e -=1 \n",
    "        \n",
    "    return True\n",
    "\n",
    "def longest_palindrom(string):\n",
    "    l = len(string)   \n",
    "    longeststring = \"\"\n",
    "    for i in range(l):\n",
    "        substirng = \"\"\n",
    "        for j in range(i, l):\n",
    "            substirng += string[j]\n",
    "            if is_palindrom(substirng):\n",
    "                if len(longeststring) < len(substirng):\n",
    "                    longeststring = substirng\n",
    "\n",
    "    print(longeststring)\n",
    "\n",
    "\n",
    "        \n",
    "longest_palindrom(\"babad\")\n",
    "# is_palindrom(\"adf\")     \n"
   ]
  },
  {
   "cell_type": "code",
   "execution_count": 19,
   "metadata": {},
   "outputs": [
    {
     "data": {
      "text/plain": [
       "'bb'"
      ]
     },
     "execution_count": 19,
     "metadata": {},
     "output_type": "execute_result"
    }
   ],
   "source": [
    "def longestPalindrome(s: str) -> str:\n",
    "    l = len(s)\n",
    "    ans = \"\"\n",
    "    maxlen = 0\n",
    "\n",
    "    for mid in range(l):\n",
    "        i = mid -1\n",
    "        j = mid + 1\n",
    "        curlen = 1\n",
    "        while i >=0 and j < l and s[i] == s[j]:\n",
    "            i -=1\n",
    "            j +=1\n",
    "            curlen +=2\n",
    "        if curlen > maxlen:\n",
    "            ans = s[i+1:j]\n",
    "            maxlen = curlen\n",
    "\n",
    "    for mid in range(l):\n",
    "        i = mid\n",
    "        j = mid + 1\n",
    "        curlen = 0\n",
    "        while i >=0 and j < l and s[i] == s[j]:\n",
    "            i -=1\n",
    "            j +=1 \n",
    "            curlen += 2\n",
    "\n",
    "        if curlen > maxlen:\n",
    "            ans = s[i+1:j]\n",
    "            maxlen = curlen           \n",
    "\n",
    "    return ans\n",
    "\n",
    "longestPalindrome(\"cbbd\")\n",
    "        \n",
    "\n",
    "\n"
   ]
  },
  {
   "cell_type": "code",
   "execution_count": 10,
   "metadata": {},
   "outputs": [
    {
     "data": {
      "text/plain": [
       "'tr'"
      ]
     },
     "execution_count": 10,
     "metadata": {},
     "output_type": "execute_result"
    }
   ],
   "source": [
    "l = \"string\"\n",
    "m =1\n",
    "l[m:3]"
   ]
  }
 ],
 "metadata": {
  "kernelspec": {
   "display_name": "Python 3",
   "language": "python",
   "name": "python3"
  },
  "language_info": {
   "codemirror_mode": {
    "name": "ipython",
    "version": 3
   },
   "file_extension": ".py",
   "mimetype": "text/x-python",
   "name": "python",
   "nbconvert_exporter": "python",
   "pygments_lexer": "ipython3",
   "version": "3.9.6"
  }
 },
 "nbformat": 4,
 "nbformat_minor": 2
}
