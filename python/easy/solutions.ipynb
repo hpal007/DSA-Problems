{
 "cells": [
  {
   "cell_type": "code",
   "execution_count": null,
   "metadata": {},
   "outputs": [],
   "source": [
    "from typing import List"
   ]
  },
  {
   "cell_type": "code",
   "execution_count": null,
   "metadata": {},
   "outputs": [
    {
     "name": "stdout",
     "output_type": "stream",
     "text": [
      "[[1, 4, 7], [2, 5, 8], [3, 6, 9]]\n"
     ]
    }
   ],
   "source": [
    "# traspose matrix\n",
    "def transpose(matrix: List[List[int]]) -> List[List[int]]:\n",
    "        r = len(matrix)\n",
    "        c = len(matrix[0])\n",
    "        \n",
    "        output = [ [0 for _ in range(r)] for _ in range(c) ] # this is required becase assigning to location that doesnot exist will give index error.\n",
    "\n",
    "        for i in range(0,r):\n",
    "            for j in range(0,c):\n",
    "                output[j][i] = matrix[i][j]\n",
    "        \n",
    "        print(output)\n",
    "\n",
    "matrix = [[1,2,3],[4,5,6],[7,8,9]]\n",
    "transpose(matrix)"
   ]
  },
  {
   "cell_type": "code",
   "execution_count": 9,
   "metadata": {},
   "outputs": [
    {
     "data": {
      "text/plain": [
       "[0, 1, 9, 16, 100]"
      ]
     },
     "execution_count": 9,
     "metadata": {},
     "output_type": "execute_result"
    }
   ],
   "source": [
    "# square of sorted array\n",
    "def sortedSquares(nums: List[int]) -> List[int]:\n",
    "        return sorted([el*el for el in nums])\n",
    "\n",
    "input_list = [-4,-1,0,3,10];\n",
    "\n",
    "sortedSquares(input_list)"
   ]
  }
 ],
 "metadata": {
  "kernelspec": {
   "display_name": "venv",
   "language": "python",
   "name": "python3"
  },
  "language_info": {
   "codemirror_mode": {
    "name": "ipython",
    "version": 3
   },
   "file_extension": ".py",
   "mimetype": "text/x-python",
   "name": "python",
   "nbconvert_exporter": "python",
   "pygments_lexer": "ipython3",
   "version": "3.9.6"
  }
 },
 "nbformat": 4,
 "nbformat_minor": 2
}
