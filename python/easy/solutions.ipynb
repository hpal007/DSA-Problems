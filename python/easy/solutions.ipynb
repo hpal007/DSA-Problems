{
 "cells": [
  {
   "cell_type": "code",
   "execution_count": 1,
   "metadata": {},
   "outputs": [],
   "source": [
    "from typing import List"
   ]
  },
  {
   "cell_type": "code",
   "execution_count": null,
   "metadata": {},
   "outputs": [
    {
     "name": "stdout",
     "output_type": "stream",
     "text": [
      "[[1, 4, 7], [2, 5, 8], [3, 6, 9]]\n"
     ]
    }
   ],
   "source": [
    "# traspose matrix tc: o(n^2)\n",
    "def transpose(matrix: List[List[int]]) -> List[List[int]]:\n",
    "        r = len(matrix)\n",
    "        c = len(matrix[0])\n",
    "        \n",
    "        output = [ [0 for _ in range(r)] for _ in range(c) ] # this is required becase assigning to location that doesnot exist will give index error.\n",
    "\n",
    "        for i in range(0,r):\n",
    "            for j in range(0,c):\n",
    "                output[j][i] = matrix[i][j]\n",
    "        \n",
    "        print(output)\n",
    "\n",
    "matrix = [[1,2,3],[4,5,6],[7,8,9]]\n",
    "transpose(matrix)"
   ]
  },
  {
   "cell_type": "markdown",
   "metadata": {},
   "source": [
    "# Solution for problem 2: Square of sorted arrays"
   ]
  },
  {
   "cell_type": "code",
   "execution_count": null,
   "metadata": {},
   "outputs": [
    {
     "data": {
      "text/plain": [
       "[0, 1, 9, 9, 100]"
      ]
     },
     "execution_count": 4,
     "metadata": {},
     "output_type": "execute_result"
    }
   ],
   "source": [
    "# square of sorted array tc: O(nlogn)\n",
    "def sortedSquares(nums: List[int]) -> List[int]:\n",
    "        return sorted([el*el for el in nums])\n",
    "\n",
    "input_list = [-3,-1,0,3,10];\n",
    "\n",
    "sortedSquares(input_list)"
   ]
  },
  {
   "cell_type": "code",
   "execution_count": null,
   "metadata": {},
   "outputs": [
    {
     "data": {
      "text/plain": [
       "[0, 1, 9, 9, 100]"
      ]
     },
     "execution_count": 15,
     "metadata": {},
     "output_type": "execute_result"
    }
   ],
   "source": [
    "#withoutsort\n",
    "def sortedSquares(nums: List[int]) -> List[int]:\n",
    "    n = len(nums)\n",
    "    l = 0\n",
    "    r = n -1\n",
    "    index = n -1\n",
    "    output = [0 for _ in range(n)]\n",
    "    while l<=r:\n",
    "        sq_of_left = nums[l] * nums[l]\n",
    "        sq_of_right = nums[r]* nums[r]\n",
    "        if sq_of_right>sq_of_left:\n",
    "            output[index] = sq_of_right\n",
    "            r -=1\n",
    "        else: \n",
    "            output[index] = sq_of_left\n",
    "            l+=1\n",
    "\n",
    "        index -=1\n",
    "        \n",
    "    return output\n",
    "\n",
    "input_list = [-3,-1,0,3,10];\n",
    "sortedSquares(input_list)"
   ]
  },
  {
   "cell_type": "code",
   "execution_count": null,
   "metadata": {},
   "outputs": [],
   "source": []
  }
 ],
 "metadata": {
  "kernelspec": {
   "display_name": "Python 3",
   "language": "python",
   "name": "python3"
  },
  "language_info": {
   "codemirror_mode": {
    "name": "ipython",
    "version": 3
   },
   "file_extension": ".py",
   "mimetype": "text/x-python",
   "name": "python",
   "nbconvert_exporter": "python",
   "pygments_lexer": "ipython3",
   "version": "3.9.6"
  }
 },
 "nbformat": 4,
 "nbformat_minor": 2
}
