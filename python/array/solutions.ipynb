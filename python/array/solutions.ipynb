{
 "cells": [
  {
   "cell_type": "code",
   "execution_count": 2,
   "metadata": {},
   "outputs": [],
   "source": [
    "from typing import List"
   ]
  },
  {
   "cell_type": "code",
   "execution_count": null,
   "metadata": {},
   "outputs": [
    {
     "name": "stdout",
     "output_type": "stream",
     "text": [
      "[[1, 4, 7], [2, 5, 8], [3, 6, 9]]\n"
     ]
    }
   ],
   "source": [
    "# traspose matrix tc: o(n^2)\n",
    "def transpose(matrix: List[List[int]]) -> List[List[int]]:\n",
    "        r = len(matrix)\n",
    "        c = len(matrix[0])\n",
    "        \n",
    "        output = [ [0 for _ in range(r)] for _ in range(c) ] # this is required becase assigning to location that doesnot exist will give index error.\n",
    "\n",
    "        for i in range(0,r):\n",
    "            for j in range(0,c):\n",
    "                output[j][i] = matrix[i][j]\n",
    "        \n",
    "        print(output)\n",
    "\n",
    "matrix = [[1,2,3],[4,5,6],[7,8,9]]\n",
    "transpose(matrix)"
   ]
  },
  {
   "cell_type": "markdown",
   "metadata": {},
   "source": [
    "## Solution for problem 2: Square of sorted arrays"
   ]
  },
  {
   "cell_type": "code",
   "execution_count": null,
   "metadata": {},
   "outputs": [
    {
     "data": {
      "text/plain": [
       "[0, 1, 9, 9, 100]"
      ]
     },
     "execution_count": 4,
     "metadata": {},
     "output_type": "execute_result"
    }
   ],
   "source": [
    "# square of sorted array tc: O(nlogn)\n",
    "def sortedSquares(nums: List[int]) -> List[int]:\n",
    "        return sorted([el*el for el in nums])\n",
    "\n",
    "input_list = [-3,-1,0,3,10];\n",
    "\n",
    "sortedSquares(input_list)"
   ]
  },
  {
   "cell_type": "code",
   "execution_count": null,
   "metadata": {},
   "outputs": [
    {
     "data": {
      "text/plain": [
       "[0, 1, 9, 9, 100]"
      ]
     },
     "execution_count": 15,
     "metadata": {},
     "output_type": "execute_result"
    }
   ],
   "source": [
    "#withoutsort\n",
    "def sortedSquares(nums: List[int]) -> List[int]:\n",
    "    n = len(nums)\n",
    "    l = 0\n",
    "    r = n -1\n",
    "    index = n -1\n",
    "    output = [0 for _ in range(n)]\n",
    "    while l<=r:\n",
    "        sq_of_left = nums[l] * nums[l]\n",
    "        sq_of_right = nums[r]* nums[r]\n",
    "        if sq_of_right>sq_of_left:\n",
    "            output[index] = sq_of_right\n",
    "            r -=1\n",
    "        else: \n",
    "            output[index] = sq_of_left\n",
    "            l+=1\n",
    "\n",
    "        index -=1\n",
    "        \n",
    "    return output\n",
    "\n",
    "input_list = [-3,-1,0,3,10];\n",
    "sortedSquares(input_list)"
   ]
  },
  {
   "cell_type": "markdown",
   "metadata": {},
   "source": [
    "## 88. Merge Sorted Array"
   ]
  },
  {
   "cell_type": "code",
   "execution_count": null,
   "metadata": {},
   "outputs": [
    {
     "name": "stdout",
     "output_type": "stream",
     "text": [
      "[1, 2, 3, 2, 5, 6]\n"
     ]
    }
   ],
   "source": [
    "# initial solution\n",
    "def merge(nums1: List[int], m: int, nums2: List[int], n: int):\n",
    "    # output = [0 for el in range(m+n)]\n",
    "\n",
    "    nums1[m:] = nums2\n",
    "    nums1.sort()\n",
    "    \n",
    "\n",
    "nums1 = [1,2,3,0,0,0]\n",
    "m = 3\n",
    "nums2 = [2,5,6]\n",
    "n = 3\n",
    "merge(nums1, m, nums2, n)\n"
   ]
  },
  {
   "cell_type": "code",
   "execution_count": null,
   "metadata": {},
   "outputs": [
    {
     "name": "stdout",
     "output_type": "stream",
     "text": [
      "[1, 2, 2, 3, 5, 6]\n"
     ]
    }
   ],
   "source": [
    "# best solution\n",
    "def merge(nums1: List[int], m: int, nums2: List[int], n: int):\n",
    "    i = m -1 # pointer to last valid element in nums1\n",
    "    j = n -1 # pointer to last element in nums2\n",
    "    k = m+n -1 # position to end of num1(total length)\n",
    "\n",
    "#   merge in reverse  order \n",
    "    while i>=0 and j >=0: \n",
    "        if nums1[i] > nums2[j]:\n",
    "            nums1[k] = nums1[i]\n",
    "            i-=1\n",
    "        else:\n",
    "            nums1[k] = nums2[j]\n",
    "            j-=1\n",
    "        k-=1\n",
    "    # add remaining values from nums2 when j is still not 0, this will happen when length of nums2 is greater then nums 1\n",
    "    while j >=0:\n",
    "        nums1[k] = nums2[j]\n",
    "        j -=1\n",
    "        k -=1\n",
    "\n",
    "    print(nums1)\n",
    "    \n",
    "\n",
    "nums1 = [1,2,3,0,0,0]\n",
    "m = 3\n",
    "nums2 = [2,5,6]\n",
    "n = 3\n",
    "merge(nums1, m, nums2, n)"
   ]
  },
  {
   "cell_type": "markdown",
   "metadata": {},
   "source": [
    "## 26. Remove Duplicates from Sorted Array"
   ]
  },
  {
   "cell_type": "code",
   "execution_count": null,
   "metadata": {},
   "outputs": [
    {
     "name": "stdout",
     "output_type": "stream",
     "text": [
      "[0, 1, 2, 3, 4]\n",
      "5\n"
     ]
    }
   ],
   "source": [
    "def removeDuplicates(nums: List[int]) -> int:\n",
    "    l = len(nums) \n",
    "    output = []\n",
    "\n",
    "    for el in nums:\n",
    "        if el in output:\n",
    "            continue\n",
    "        else:\n",
    "            output.append(el)\n",
    "    \n",
    "    print(output)\n",
    "    print(len(output))\n",
    "\n",
    "removeDuplicates([0,0,1,1,1,2,2,3,3,4])          \n",
    "        "
   ]
  },
  {
   "cell_type": "code",
   "execution_count": null,
   "metadata": {},
   "outputs": [
    {
     "name": "stdout",
     "output_type": "stream",
     "text": [
      "[0, 1, 1, 1, 2]\n",
      "[0, 1, 2, 1, 2]\n",
      "3\n",
      "[0, 1, 2, 1, 2]\n"
     ]
    }
   ],
   "source": [
    "def removeDuplicates(nums: List[int]) -> int:\n",
    "    l = len(nums)\n",
    "    u = 0\n",
    "    for j in range(1,l):\n",
    "        if nums[u] != nums[j]:\n",
    "            u +=1\n",
    "            nums[u] = nums[j]\n",
    "\n",
    "    print(u+1)\n",
    "\n",
    "removeDuplicates([0,1,1,1,2])    "
   ]
  },
  {
   "cell_type": "code",
   "execution_count": 21,
   "metadata": {},
   "outputs": [
    {
     "name": "stdout",
     "output_type": "stream",
     "text": [
      "[1, 3, 2]\n"
     ]
    }
   ],
   "source": [
    "m = [1,2,3]\n",
    "\n",
    "m.pop(1)\n",
    "m.insert(2,2)\n",
    "print(m)"
   ]
  }
 ],
 "metadata": {
  "kernelspec": {
   "display_name": "Python 3",
   "language": "python",
   "name": "python3"
  },
  "language_info": {
   "codemirror_mode": {
    "name": "ipython",
    "version": 3
   },
   "file_extension": ".py",
   "mimetype": "text/x-python",
   "name": "python",
   "nbconvert_exporter": "python",
   "pygments_lexer": "ipython3",
   "version": "3.9.6"
  }
 },
 "nbformat": 4,
 "nbformat_minor": 2
}
