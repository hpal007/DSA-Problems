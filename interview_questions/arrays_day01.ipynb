{
 "cells": [
  {
   "cell_type": "markdown",
   "id": "e9a51ce3-51de-488f-a4bf-c3671091ef95",
   "metadata": {},
   "source": [
    "Set Matrix Zeroes:\n",
    "Given an m x n integer matrix matrix, if an element is 0, set its entire row and column to 0. You must do it in place.\n",
    "\n",
    "Input: matrix = [[1,1,1],[1,0,1],[1,1,1]]\n",
    "Output: [[1,0,1],[0,0,0],[1,0,1]]\n",
    "\n",
    "Explanation:\n",
    "Element at position (1,1) is 0, so set entire row 1 and column 1 to 0."
   ]
  },
  {
   "cell_type": "code",
   "execution_count": null,
   "id": "b37905e0-65b1-481b-89e0-f4a2fd7ae022",
   "metadata": {},
   "outputs": [],
   "source": []
  }
 ],
 "metadata": {
  "kernelspec": {
   "display_name": "Python 3 (ipykernel)",
   "language": "python",
   "name": "python3"
  },
  "language_info": {
   "codemirror_mode": {
    "name": "ipython",
    "version": 3
   },
   "file_extension": ".py",
   "mimetype": "text/x-python",
   "name": "python",
   "nbconvert_exporter": "python",
   "pygments_lexer": "ipython3",
   "version": "3.12.3"
  }
 },
 "nbformat": 4,
 "nbformat_minor": 5
}
