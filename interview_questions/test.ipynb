{
 "cells": [
  {
   "cell_type": "code",
   "execution_count": 1,
   "id": "ee3a3f1d",
   "metadata": {},
   "outputs": [],
   "source": [
    "# merge_sorted([1,3,5],[2,4,6])\n",
    "\n",
    "\n",
    "def merge_sorted(list1, list2):\n",
    "    merged = []\n",
    "    i, j = 0, 0\n",
    "\n",
    "    while i < len(list1) and j < len(list2):\n",
    "        if list1[i] < list2[j]:\n",
    "            merged.append(list1[i])\n",
    "            i += 1\n",
    "        else:\n",
    "            merged.append(list2[j])\n",
    "            j += 1\n",
    "\n",
    "    # Append any remaining elements from list1 or list2\n",
    "    merged.extend(list1[i:])\n",
    "    merged.extend(list2[j:])\n",
    "\n",
    "    return merged"
   ]
  },
  {
   "cell_type": "code",
   "execution_count": 2,
   "id": "37abc6ab-675a-4d40-97ac-e1258569984f",
   "metadata": {},
   "outputs": [
    {
     "data": {
      "text/plain": [
       "[1, 2, 3, 4, 5, 6]"
      ]
     },
     "execution_count": 2,
     "metadata": {},
     "output_type": "execute_result"
    }
   ],
   "source": [
    " merge_sorted([1,3,5],[2,4,6])"
   ]
  },
  {
   "cell_type": "code",
   "execution_count": 3,
   "id": "95779a28-6092-44b9-a3fc-d8c99aefc452",
   "metadata": {},
   "outputs": [],
   "source": [
    "def first_non_repeating(st):\n",
    "    from collections import Counter\n",
    "    freq = Counter(st)\n",
    "    for c in st:\n",
    "        if freq[c] == 1: return c\n",
    "    return None\n",
    "# Example: first_non_repeating(\"abacabad\") => 'c'\n"
   ]
  },
  {
   "cell_type": "code",
   "execution_count": 4,
   "id": "f3d85c52-4c75-4be6-818e-02f5e4534172",
   "metadata": {},
   "outputs": [
    {
     "data": {
      "text/plain": [
       "'c'"
      ]
     },
     "execution_count": 4,
     "metadata": {},
     "output_type": "execute_result"
    }
   ],
   "source": [
    " first_non_repeating(\"abacabad\")"
   ]
  },
  {
   "cell_type": "code",
   "execution_count": 6,
   "id": "c673741b-d3e3-4a97-b9a5-5e003a25ee51",
   "metadata": {},
   "outputs": [
    {
     "data": {
      "text/plain": [
       "Counter({'a': 4, 'b': 2, 'c': 1, 'd': 1})"
      ]
     },
     "execution_count": 6,
     "metadata": {},
     "output_type": "execute_result"
    }
   ],
   "source": [
    "from collections import Counter\n",
    "st = \"abacabad\"\n",
    "Counter(st)"
   ]
  },
  {
   "cell_type": "code",
   "execution_count": null,
   "id": "d7d9871e-8589-4273-b1b8-7defcd45827a",
   "metadata": {},
   "outputs": [],
   "source": []
  }
 ],
 "metadata": {
  "kernelspec": {
   "display_name": "Python 3",
   "language": "python",
   "name": "python3"
  },
  "language_info": {
   "codemirror_mode": {
    "name": "ipython",
    "version": 3
   },
   "file_extension": ".py",
   "mimetype": "text/x-python",
   "name": "python",
   "nbconvert_exporter": "python",
   "pygments_lexer": "ipython3",
   "version": "3.9.6"
  }
 },
 "nbformat": 4,
 "nbformat_minor": 5
}
